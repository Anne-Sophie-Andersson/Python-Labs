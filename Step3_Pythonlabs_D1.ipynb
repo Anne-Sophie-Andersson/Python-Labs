{
  "nbformat": 4,
  "nbformat_minor": 0,
  "metadata": {
    "colab": {
      "name": "Step3_Pythonlabs_D1.ipynb",
      "provenance": []
    },
    "kernelspec": {
      "name": "python3",
      "display_name": "Python 3"
    },
    "language_info": {
      "name": "python"
    }
  },
  "cells": [
    {
      "cell_type": "code",
      "metadata": {
        "colab": {
          "base_uri": "https://localhost:8080/"
        },
        "id": "WxqUwa6IAQkK",
        "outputId": "b1433e2b-8bd1-4be1-c03b-7ee40c681233"
      },
      "source": [
        "#first we have to mount the google drive because it is in linux \n",
        "# so we have to make the file accessible\n",
        "from google.colab import drive\n",
        "drive.mount(\"/content/drive\")"
      ],
      "execution_count": 5,
      "outputs": [
        {
          "output_type": "stream",
          "name": "stdout",
          "text": [
            "Mounted at /content/drive\n"
          ]
        }
      ]
    },
    {
      "cell_type": "markdown",
      "metadata": {
        "id": "Ido24O4DB1Pe"
      },
      "source": [
        "Creating a function to list a folder\n"
      ]
    },
    {
      "cell_type": "code",
      "metadata": {
        "id": "Q871qXae8FmT"
      },
      "source": [
        "#write a function that is able to list a folder\n",
        "import os\n",
        "\n",
        "\n",
        "def list_a_folder(input_path):\n",
        "  \"\"\"\n",
        "  this function first list all the elements in my folder and \n",
        "  then count the number of elements inside it.\n",
        "  \"\"\"\n",
        "  list_of_my_path = os.listdir(input_path)\n",
        "  number_of_elements = len(list_of_my_path) \n",
        "  return number_of_elements\n"
      ],
      "execution_count": 1,
      "outputs": []
    },
    {
      "cell_type": "code",
      "metadata": {
        "colab": {
          "base_uri": "https://localhost:8080/"
        },
        "id": "xu822ZMA_MQv",
        "outputId": "a183af8c-5825-4f1f-e178-597f5faa5bd6"
      },
      "source": [
        "#beware to write the url with forwardslah instead of backslah when in linux\n",
        "my_path = \"/content/drive/MyDrive\"\n",
        "list_a_folder(my_path)\n",
        "#colab does not know anything about my desktop computer."
      ],
      "execution_count": 7,
      "outputs": [
        {
          "output_type": "execute_result",
          "data": {
            "text/plain": [
              "123"
            ]
          },
          "metadata": {},
          "execution_count": 7
        }
      ]
    },
    {
      "cell_type": "markdown",
      "metadata": {
        "id": "ulPMd6M6B5wE"
      },
      "source": [
        "Is it really 123?"
      ]
    },
    {
      "cell_type": "code",
      "metadata": {
        "id": "kQWmI9LbB_BV"
      },
      "source": [
        "def list_of_folder_2 (input_path):\n",
        "  \"\"\"\n",
        "  this function needs to return the len of files that are in this folder \n",
        "  and also list the files\n",
        "  \"\"\"\n",
        "  list_of_my_path = os.listdir(input_path) \n",
        "  number_of_elements = len(input_path)\n",
        "  \n",
        "  return (list_of_my_path, number_of_elements)\n"
      ],
      "execution_count": 9,
      "outputs": []
    },
    {
      "cell_type": "code",
      "metadata": {
        "id": "VwImxQX4FSmw"
      },
      "source": [
        ""
      ],
      "execution_count": null,
      "outputs": []
    },
    {
      "cell_type": "code",
      "metadata": {
        "id": "eghjEGKPDpBr"
      },
      "source": [
        "list_of_folder_2 (my_path)"
      ],
      "execution_count": null,
      "outputs": []
    },
    {
      "cell_type": "code",
      "metadata": {
        "id": "g-JjhY3MFYZO"
      },
      "source": [
        "def list_of_folder_3 (input_path):\n",
        "  \"\"\"\n",
        "  this function needs to return the len of files that are in this folder \n",
        "  and also list the files but also make sure that there are ONLY files \n",
        "  and not folders\n",
        "  \"\"\"\n",
        "  # declare a variable that is listing my files located inside a directory\n",
        "  list_of_my_path = os.listdir(input_path) \n",
        "  \n",
        "# declare a variable that is an empty list\n",
        "  good_elements = []\n",
        "  # start a for loop to look for all elements in my list of files\n",
        "  # (relative path format)\n",
        "  for element in list_of_my_path:\n",
        "    #create a variable that is storing one full path of my file\n",
        "    full_path_file = os.path.join(input_path, element)\n",
        "    # we start an if condition to make sure the full path of that element is a file\n",
        "    if os.path.isfile(full_path_file):\n",
        "      # we add this full path file to the list of good elements\n",
        "      good_elements.append(full_path_file)\n",
        "  # declare a variable that is  counting the number of elements in the list good elements\n",
        "  number_of_elements = len(good_elements)\n",
        "  # return the tuple\n",
        "  return (good_elements,number_of_elements)"
      ],
      "execution_count": 21,
      "outputs": []
    },
    {
      "cell_type": "code",
      "metadata": {
        "id": "EYTWCXcaJXRY"
      },
      "source": [
        "list_of_folder_3 (my_path)"
      ],
      "execution_count": null,
      "outputs": []
    },
    {
      "cell_type": "code",
      "metadata": {
        "id": "Xs8ys_ZFQfrg"
      },
      "source": [
        "def list_of_folder_jpg (input_path, format_file):\n",
        "  \"\"\"\n",
        "  this function needs to return the len of files that are in this folder \n",
        "  and also list the files but also make sure that there are ONLY JPEG files \n",
        "  and not folders\n",
        "  \"\"\"\n",
        "  # declare a variable that is listing my files located inside a directory\n",
        "  list_of_my_path = os.listdir(input_path) \n",
        "  \n",
        "# declare a variable that is an empty list\n",
        "  good_elements = []\n",
        "  # start a for loop to look for all elements in my list of files\n",
        "  # (relative path format)\n",
        "  for element in list_of_my_path:\n",
        "    #create a variable that is storing one full path of my file\n",
        "    full_path_file = os.path.join(input_path, element)\n",
        "    # we start an if condition to make sure the full path of that element is a file\n",
        "    if os.path.isfile(full_path_file):\n",
        "      #check if file is a jpg\n",
        "      if full_path_file.lower().endswith('.jpg'):\n",
        "        # we add this full path file to the list of good elements\n",
        "        good_elements.append(full_path_file)\n",
        "  # declare a variable that is  counting the number of elements in the list good elements\n",
        "  number_of_elements = len(good_elements)\n",
        "  # return the tuple\n",
        "  return (good_elements,number_of_elements)"
      ],
      "execution_count": 28,
      "outputs": []
    },
    {
      "cell_type": "code",
      "metadata": {
        "colab": {
          "base_uri": "https://localhost:8080/"
        },
        "id": "PcyENB66Rm_u",
        "outputId": "09b814ad-61ad-41f8-bea6-1d021e369a92"
      },
      "source": [
        "list_of_folder_jpg (my_path, \".jpg\")"
      ],
      "execution_count": 29,
      "outputs": [
        {
          "output_type": "execute_result",
          "data": {
            "text/plain": [
              "(['/content/drive/MyDrive/DSC00295.JPG',\n",
              "  '/content/drive/MyDrive/DSC00304.JPG',\n",
              "  '/content/drive/MyDrive/DSC00294.JPG',\n",
              "  '/content/drive/MyDrive/DSC00378.JPG',\n",
              "  '/content/drive/MyDrive/DSC00373.JPG',\n",
              "  '/content/drive/MyDrive/filename-1.jpg',\n",
              "  \"/content/drive/MyDrive/Journee de l'europe_003.jpg\",\n",
              "  '/content/drive/MyDrive/shutterstock_1046210452.jpg',\n",
              "  '/content/drive/MyDrive/IMG_8128.JPG'],\n",
              " 9)"
            ]
          },
          "metadata": {},
          "execution_count": 29
        }
      ]
    }
  ]
}